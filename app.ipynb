# app.ipynb

# Installa librerie (solo la prima volta)
!pip install transformers faiss-cpu sentence-transformers PyMuPDF

from sentence_transformers import SentenceTransformer
import faiss
import fitz  # PyMuPDF
import numpy as np

# 1. Carica il bando in PDF
doc = fitz.open("bando.pdf")
texts = [page.get_text() for page in doc]
documents = [t.strip() for t in texts if t.strip()]
doc.close()

# 2. Embedding con modello open-source
model = SentenceTransformer("all-MiniLM-L6-v2")
doc_embeddings = model.encode(documents)

# 3. Costruisci l’indice FAISS
dimension = doc_embeddings.shape[1]
index = faiss.IndexFlatL2(dimension)
index.add(doc_embeddings)

# 4. Interroga il sistema
def cerca_risposte(query, top_k=3):
    query_embedding = model.encode([query])
    distances, indices = index.search(query_embedding, top_k)
    return [documents[i] for i in indices[0]]

# 5. Esempio d'uso
query = "Qual è la scadenza del bando?"
risposte = cerca_risposte(query)
for r in risposte:
    print("\n—", r)
